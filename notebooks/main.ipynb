# %%
# Install selenium
! pip install selenium

import os
import time
import re
from selenium import webdriver
from selenium.webdriver.common.keys import Keys
from selenium.webdriver.chrome.options import Options
from selenium.webdriver.common.by import By

# Context
context = 'linux' # or mac

chrome_options = Options()

### CONFIG - SETUP CHROME

# Default configuration for headless chrome on linux/container
chromedriver = 'chrome/chromedriver-linux'
chrome_options.add_argument("--headless")
chrome_options.add_argument("--no-sandbox")
chrome_options.add_argument("--disable-gpu")
chrome_options.add_argument("--remote-debugging-port=9222")

# Change some stuff up if mac
if context is 'mac':
    chromedriver = '../chrome/mac/chromedriver'
    chrome_options.arguments.remove("--headless")
    chrome_options.binary_location = '../chrome/mac/Chromium.app/Contents/MacOS/Chromium'


driver = webdriver.Chrome(executable_path=chromedriver, chrome_options=chrome_options)
driver.get("https://test-mohammed-2-1162831764.us-east-2.elb.amazonaws.com")
